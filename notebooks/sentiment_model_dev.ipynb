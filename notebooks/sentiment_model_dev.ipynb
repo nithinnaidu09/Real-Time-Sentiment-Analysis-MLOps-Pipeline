{
 "cells": [
  {
   "cell_type": "code",
   "execution_count": null,
   "metadata": {},
   "outputs": [],
   "source": [
    "import pandas as pd\n",
    "import matplotlib.pyplot as plt\n",
    "import seaborn as sns\n",
    "\n",
    "# Load data\n",
    "df = pd.read_csv(\"../data/raw/sentiment.csv\")\n",
    "\n",
    "# Basic info\n",
    "print(df.head())\n",
    "print(df['label'].value_counts())\n",
    "\n",
    "# Plot label distribution\n",
    "sns.countplot(data=df, x='label')\n",
    "plt.title(\"Sentiment Class Distribution\")\n",
    "plt.show()\n",
    "\n",
    "# Save cleaned version\n",
    "df.dropna(inplace=True)\n",
    "df['text'] = df['text'].str.replace(r'[^a-zA-Z\\s]', '', regex=True)\n",
    "df.to_csv(\"../data/processed/cleaned.csv\", index=False)"
   ]
  }
 ],
 "metadata": {
  "language_info": {
   "name": "python"
  }
 },
 "nbformat": 4,
 "nbformat_minor": 2
}
